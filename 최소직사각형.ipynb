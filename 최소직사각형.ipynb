{
  "nbformat": 4,
  "nbformat_minor": 0,
  "metadata": {
    "colab": {
      "provenance": [],
      "authorship_tag": "ABX9TyMIJEIUEYl8pm5r6cX2tcbx",
      "include_colab_link": true
    },
    "kernelspec": {
      "name": "python3",
      "display_name": "Python 3"
    },
    "language_info": {
      "name": "python"
    }
  },
  "cells": [
    {
      "cell_type": "markdown",
      "metadata": {
        "id": "view-in-github",
        "colab_type": "text"
      },
      "source": [
        "<a href=\"https://colab.research.google.com/github/jukyung-j/Programmers-code-study/blob/master/%EC%B5%9C%EC%86%8C%EC%A7%81%EC%82%AC%EA%B0%81%ED%98%95.ipynb\" target=\"_parent\"><img src=\"https://colab.research.google.com/assets/colab-badge.svg\" alt=\"Open In Colab\"/></a>"
      ]
    },
    {
      "cell_type": "code",
      "execution_count": null,
      "metadata": {
        "id": "_K3vI4MXuGLC"
      },
      "outputs": [],
      "source": [
        "def solution(sizes):\n",
        "    # 명함 크기가 될 수 있는 크기들\n",
        "    num = sorted(set(sum(sizes, [])))   \n",
        "    # 명함 크기별 정렬\n",
        "    sizes.sort(key=lambda x: x[0] * x[1], reverse=True)\n",
        "    is_min = False\n",
        "    \n",
        "    for i in range(len(num)):\n",
        "        for j in range(i, len(num)):\n",
        "            if is_min: break\n",
        "            x, y = num[i], num[j]\n",
        "            for size_a, size_b in sizes:\n",
        "                if (size_a > x or size_b > y) and (size_b > x or size_a > y):\n",
        "                    is_min = False\n",
        "                    break\n",
        "                else:\n",
        "                    is_min = True\n",
        "                    min_x, min_y = x, y\n",
        "                    \n",
        "    answer = min_x * min_y\n",
        "    return answer"
      ]
    }
  ]
}